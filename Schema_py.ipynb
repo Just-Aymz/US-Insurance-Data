{
  "nbformat": 4,
  "nbformat_minor": 0,
  "metadata": {
    "colab": {
      "provenance": [],
      "authorship_tag": "ABX9TyOij89ptPpqQGptz5M0loMl",
      "include_colab_link": true
    },
    "kernelspec": {
      "name": "python3",
      "display_name": "Python 3"
    },
    "language_info": {
      "name": "python"
    }
  },
  "cells": [
    {
      "cell_type": "markdown",
      "metadata": {
        "id": "view-in-github",
        "colab_type": "text"
      },
      "source": [
        "<a href=\"https://colab.research.google.com/github/Just-Aymz/US-Insurance-Data/blob/main/Schema_py.ipynb\" target=\"_parent\"><img src=\"https://colab.research.google.com/assets/colab-badge.svg\" alt=\"Open In Colab\"/></a>"
      ]
    },
    {
      "cell_type": "code",
      "execution_count": null,
      "metadata": {
        "id": "H0b3_FK9zIwY"
      },
      "outputs": [],
      "source": [
        "from pydantic import BaseModel\n",
        "from enum import Enum\n",
        "from typing import Optional\n",
        "\n",
        "# Enum for categorical features\n",
        "class SmokerStatus(Enum):\n",
        "    yes = \"yes\"\n",
        "    no = \"no\"\n",
        "\n",
        "class Sex(Enum):\n",
        "    male = \"male\"\n",
        "    female = \"female\"\n",
        "\n",
        "class Region(Enum):\n",
        "    south_west = \"southwest\"\n",
        "    south_east = \"southeast\"\n",
        "    north_west = \"northwest\"\n",
        "    north_east = \"northeast\"\n",
        "\n",
        "class InputFeatures(BaseModel):\n",
        "    age: float\n",
        "    bmi: float\n",
        "    children: int\n",
        "    sex: Sex\n",
        "    smoker: SmokerStatus\n",
        "    region: Region\n",
        "\n",
        "    class Config:\n",
        "        use_enum_values = True\n"
      ]
    }
  ]
}